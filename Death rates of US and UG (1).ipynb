{
 "cells": [
  {
   "cell_type": "code",
   "execution_count": 18,
   "id": "7178828f-d45d-4dbe-b838-ba18c8e17840",
   "metadata": {},
   "outputs": [
    {
     "name": "stdout",
     "output_type": "stream",
     "text": [
      "Requirement already satisfied: pandas in c:\\users\\prasa\\appdata\\roaming\\python\\python311\\site-packages (2.2.0)\n",
      "Requirement already satisfied: numpy<2,>=1.23.2 in c:\\users\\prasa\\appdata\\roaming\\python\\python311\\site-packages (from pandas) (1.26.4)\n",
      "Requirement already satisfied: python-dateutil>=2.8.2 in c:\\users\\prasa\\appdata\\local\\programs\\python\\python311\\lib\\site-packages (from pandas) (2.8.2)\n",
      "Requirement already satisfied: pytz>=2020.1 in c:\\users\\prasa\\appdata\\local\\programs\\python\\python311\\lib\\site-packages (from pandas) (2024.1)\n",
      "Requirement already satisfied: tzdata>=2022.7 in c:\\users\\prasa\\appdata\\roaming\\python\\python311\\site-packages (from pandas) (2023.4)\n",
      "Requirement already satisfied: six>=1.5 in c:\\users\\prasa\\appdata\\local\\programs\\python\\python311\\lib\\site-packages (from python-dateutil>=2.8.2->pandas) (1.16.0)\n",
      "Note: you may need to restart the kernel to use updated packages.\n"
     ]
    }
   ],
   "source": [
    "pip install pandas"
   ]
  },
  {
   "cell_type": "code",
   "execution_count": 19,
   "id": "9b36798d-03c4-4d20-9cc4-1072f3dcdabb",
   "metadata": {
    "scrolled": true
   },
   "outputs": [],
   "source": [
    "import pandas as pd\n",
    "import numpy as np\n",
    "import warnings\n",
    "warnings.filterwarnings('ignore')"
   ]
  },
  {
   "cell_type": "code",
   "execution_count": 20,
   "id": "b7c09e12-f795-481b-9600-ee3eafaecf7f",
   "metadata": {},
   "outputs": [
    {
     "name": "stdout",
     "output_type": "stream",
     "text": [
      "Requirement already satisfied: openpyxl in c:\\users\\prasa\\appdata\\local\\programs\\python\\python311\\lib\\site-packages (3.1.2)\n",
      "Requirement already satisfied: et-xmlfile in c:\\users\\prasa\\appdata\\local\\programs\\python\\python311\\lib\\site-packages (from openpyxl) (1.1.0)\n",
      "Note: you may need to restart the kernel to use updated packages.\n"
     ]
    }
   ],
   "source": [
    "pip install openpyxl"
   ]
  },
  {
   "cell_type": "code",
   "execution_count": 21,
   "id": "2274df1b-7f86-4af2-80bb-38f5fa8d8654",
   "metadata": {},
   "outputs": [
    {
     "data": {
      "text/html": [
       "<div>\n",
       "<style scoped>\n",
       "    .dataframe tbody tr th:only-of-type {\n",
       "        vertical-align: middle;\n",
       "    }\n",
       "\n",
       "    .dataframe tbody tr th {\n",
       "        vertical-align: top;\n",
       "    }\n",
       "\n",
       "    .dataframe thead th {\n",
       "        text-align: right;\n",
       "    }\n",
       "</style>\n",
       "<table border=\"1\" class=\"dataframe\">\n",
       "  <thead>\n",
       "    <tr style=\"text-align: right;\">\n",
       "      <th></th>\n",
       "      <th>Age group (years)</th>\n",
       "      <th>Death rate, United States, 2019</th>\n",
       "      <th>Death rate, Uganda, 2019</th>\n",
       "    </tr>\n",
       "  </thead>\n",
       "  <tbody>\n",
       "    <tr>\n",
       "      <th>0</th>\n",
       "      <td>0-4</td>\n",
       "      <td>0.04</td>\n",
       "      <td>0.40</td>\n",
       "    </tr>\n",
       "    <tr>\n",
       "      <th>1</th>\n",
       "      <td>2024-05-09 00:00:00</td>\n",
       "      <td>0.02</td>\n",
       "      <td>0.17</td>\n",
       "    </tr>\n",
       "    <tr>\n",
       "      <th>2</th>\n",
       "      <td>2024-10-14 00:00:00</td>\n",
       "      <td>0.02</td>\n",
       "      <td>0.07</td>\n",
       "    </tr>\n",
       "    <tr>\n",
       "      <th>3</th>\n",
       "      <td>15-19</td>\n",
       "      <td>0.02</td>\n",
       "      <td>0.23</td>\n",
       "    </tr>\n",
       "    <tr>\n",
       "      <th>4</th>\n",
       "      <td>20-24</td>\n",
       "      <td>0.06</td>\n",
       "      <td>0.38</td>\n",
       "    </tr>\n",
       "    <tr>\n",
       "      <th>5</th>\n",
       "      <td>25-29</td>\n",
       "      <td>0.11</td>\n",
       "      <td>0.40</td>\n",
       "    </tr>\n",
       "    <tr>\n",
       "      <th>6</th>\n",
       "      <td>30-34</td>\n",
       "      <td>0.29</td>\n",
       "      <td>0.75</td>\n",
       "    </tr>\n",
       "    <tr>\n",
       "      <th>7</th>\n",
       "      <td>35-39</td>\n",
       "      <td>0.56</td>\n",
       "      <td>1.11</td>\n",
       "    </tr>\n",
       "    <tr>\n",
       "      <th>8</th>\n",
       "      <td>40-44</td>\n",
       "      <td>1.42</td>\n",
       "      <td>2.04</td>\n",
       "    </tr>\n",
       "    <tr>\n",
       "      <th>9</th>\n",
       "      <td>45-49</td>\n",
       "      <td>4.00</td>\n",
       "      <td>5.51</td>\n",
       "    </tr>\n",
       "    <tr>\n",
       "      <th>10</th>\n",
       "      <td>50-54</td>\n",
       "      <td>14.13</td>\n",
       "      <td>13.26</td>\n",
       "    </tr>\n",
       "    <tr>\n",
       "      <th>11</th>\n",
       "      <td>55-59</td>\n",
       "      <td>37.22</td>\n",
       "      <td>33.25</td>\n",
       "    </tr>\n",
       "    <tr>\n",
       "      <th>12</th>\n",
       "      <td>60-64</td>\n",
       "      <td>66.48</td>\n",
       "      <td>69.62</td>\n",
       "    </tr>\n",
       "    <tr>\n",
       "      <th>13</th>\n",
       "      <td>65-69</td>\n",
       "      <td>108.66</td>\n",
       "      <td>120.78</td>\n",
       "    </tr>\n",
       "    <tr>\n",
       "      <th>14</th>\n",
       "      <td>70-74</td>\n",
       "      <td>213.10</td>\n",
       "      <td>229.88</td>\n",
       "    </tr>\n",
       "    <tr>\n",
       "      <th>15</th>\n",
       "      <td>75-79</td>\n",
       "      <td>333.06</td>\n",
       "      <td>341.06</td>\n",
       "    </tr>\n",
       "    <tr>\n",
       "      <th>16</th>\n",
       "      <td>80-84</td>\n",
       "      <td>491.10</td>\n",
       "      <td>529.31</td>\n",
       "    </tr>\n",
       "    <tr>\n",
       "      <th>17</th>\n",
       "      <td>85+</td>\n",
       "      <td>894.45</td>\n",
       "      <td>710.40</td>\n",
       "    </tr>\n",
       "  </tbody>\n",
       "</table>\n",
       "</div>"
      ],
      "text/plain": [
       "      Age group (years)  Death rate, United States, 2019  \\\n",
       "0                   0-4                             0.04   \n",
       "1   2024-05-09 00:00:00                             0.02   \n",
       "2   2024-10-14 00:00:00                             0.02   \n",
       "3                 15-19                             0.02   \n",
       "4                 20-24                             0.06   \n",
       "5                 25-29                             0.11   \n",
       "6                 30-34                             0.29   \n",
       "7                 35-39                             0.56   \n",
       "8                 40-44                             1.42   \n",
       "9                 45-49                             4.00   \n",
       "10                50-54                            14.13   \n",
       "11                55-59                            37.22   \n",
       "12                60-64                            66.48   \n",
       "13                65-69                           108.66   \n",
       "14                70-74                           213.10   \n",
       "15                75-79                           333.06   \n",
       "16                80-84                           491.10   \n",
       "17                  85+                           894.45   \n",
       "\n",
       "    Death rate, Uganda, 2019  \n",
       "0                       0.40  \n",
       "1                       0.17  \n",
       "2                       0.07  \n",
       "3                       0.23  \n",
       "4                       0.38  \n",
       "5                       0.40  \n",
       "6                       0.75  \n",
       "7                       1.11  \n",
       "8                       2.04  \n",
       "9                       5.51  \n",
       "10                     13.26  \n",
       "11                     33.25  \n",
       "12                     69.62  \n",
       "13                    120.78  \n",
       "14                    229.88  \n",
       "15                    341.06  \n",
       "16                    529.31  \n",
       "17                    710.40  "
      ]
     },
     "execution_count": 21,
     "metadata": {},
     "output_type": "execute_result"
    }
   ],
   "source": [
    "# Load age-specific death rates data\n",
    "data= pd.read_excel(\"Death_rates_of_COPD.xlsx\")\n",
    "data"
   ]
  },
  {
   "cell_type": "code",
   "execution_count": 22,
   "id": "c25a7670-8494-4196-a629-9ef43ebf0284",
   "metadata": {},
   "outputs": [
    {
     "data": {
      "text/html": [
       "<div>\n",
       "<style scoped>\n",
       "    .dataframe tbody tr th:only-of-type {\n",
       "        vertical-align: middle;\n",
       "    }\n",
       "\n",
       "    .dataframe tbody tr th {\n",
       "        vertical-align: top;\n",
       "    }\n",
       "\n",
       "    .dataframe thead th {\n",
       "        text-align: right;\n",
       "    }\n",
       "</style>\n",
       "<table border=\"1\" class=\"dataframe\">\n",
       "  <thead>\n",
       "    <tr style=\"text-align: right;\">\n",
       "      <th></th>\n",
       "      <th>Death rate, United States, 2019</th>\n",
       "      <th>Death rate, Uganda, 2019</th>\n",
       "    </tr>\n",
       "  </thead>\n",
       "  <tbody>\n",
       "    <tr>\n",
       "      <th>count</th>\n",
       "      <td>18.000000</td>\n",
       "      <td>18.000000</td>\n",
       "    </tr>\n",
       "    <tr>\n",
       "      <th>mean</th>\n",
       "      <td>120.263333</td>\n",
       "      <td>114.367778</td>\n",
       "    </tr>\n",
       "    <tr>\n",
       "      <th>std</th>\n",
       "      <td>237.022181</td>\n",
       "      <td>208.540755</td>\n",
       "    </tr>\n",
       "    <tr>\n",
       "      <th>min</th>\n",
       "      <td>0.020000</td>\n",
       "      <td>0.070000</td>\n",
       "    </tr>\n",
       "    <tr>\n",
       "      <th>25%</th>\n",
       "      <td>0.072500</td>\n",
       "      <td>0.400000</td>\n",
       "    </tr>\n",
       "    <tr>\n",
       "      <th>50%</th>\n",
       "      <td>2.710000</td>\n",
       "      <td>3.775000</td>\n",
       "    </tr>\n",
       "    <tr>\n",
       "      <th>75%</th>\n",
       "      <td>98.115000</td>\n",
       "      <td>107.990000</td>\n",
       "    </tr>\n",
       "    <tr>\n",
       "      <th>max</th>\n",
       "      <td>894.450000</td>\n",
       "      <td>710.400000</td>\n",
       "    </tr>\n",
       "  </tbody>\n",
       "</table>\n",
       "</div>"
      ],
      "text/plain": [
       "       Death rate, United States, 2019  Death rate, Uganda, 2019\n",
       "count                        18.000000                 18.000000\n",
       "mean                        120.263333                114.367778\n",
       "std                         237.022181                208.540755\n",
       "min                           0.020000                  0.070000\n",
       "25%                           0.072500                  0.400000\n",
       "50%                           2.710000                  3.775000\n",
       "75%                          98.115000                107.990000\n",
       "max                         894.450000                710.400000"
      ]
     },
     "execution_count": 22,
     "metadata": {},
     "output_type": "execute_result"
    }
   ],
   "source": [
    "data.describe()"
   ]
  },
  {
   "cell_type": "markdown",
   "id": "4aa59489-233e-49ee-a154-d5436f6a93a7",
   "metadata": {},
   "source": [
    "To find the population estimates for the United States (population_us) and Uganda (population_ug) for a specific year, such as 2019, we can use data from reliable sources like the United Nations, national statistical offices, or international organizations. Here's how you can typically obtain this information:\n",
    "\n",
    "United Nations Population Division: Visit the United Nations website and look for population estimates and projections. They often provide population data for countries worldwide.\n",
    "\n",
    "National Statistical Offices: Check the official website of the statistical office of each country. For the United States, you can visit the website of the U.S. Census Bureau, and for Uganda, you can check the Uganda Bureau of Statistics.\n",
    "\n",
    "World Bank: The World Bank also provides population data for countries globally. You can search for the World Bank's population database and find the population estimates for the United States and Uganda.\n",
    "\n",
    "Publicly Available Databases: There are various online databases that aggregate demographic data. You can search for population estimates for specific countries using these databases. Examples include the World Population Review, Worldometers, and the Population Reference Bureau."
   ]
  },
  {
   "cell_type": "markdown",
   "id": "9a315273-d188-45dd-857c-5801c844823d",
   "metadata": {},
   "source": [
    "##### WHO Standard Population (for age-standardization)\n",
    "##### You can find the standard population table from WHO\n",
    "\n",
    "##### Calculate age-standardized death rate (ASDR)\n",
    "##### Here you would use age-standardization methods, such as direct or indirect standardization,\n",
    "##### along with the WHO Standard Population table, to calculate ASDR.\n",
    "\n"
   ]
  },
  {
   "cell_type": "code",
   "execution_count": null,
   "id": "0cad99d0-5406-47b3-8236-eb97fa7791fc",
   "metadata": {},
   "outputs": [],
   "source": []
  },
  {
   "cell_type": "markdown",
   "id": "c32d4c71-2b82-4866-836d-403093ca3407",
   "metadata": {},
   "source": [
    "#### WHO Standard Population — Table 1 in 'Ahmad OB, Boschi-Pinto C, Lopez AD, Murray CJ, Lozano R, Inoue M (2001). Age standardization of rates: a new WHO standard.\n",
    "\n"
   ]
  },
  {
   "cell_type": "markdown",
   "id": "77fe26ff-f6fe-4a6c-a79f-01d3b85d8278",
   "metadata": {},
   "source": [
    " #### Let's calculate the age-standardized death rates for both the United States and Uganda using the WHO standard population."
   ]
  },
  {
   "cell_type": "code",
   "execution_count": 23,
   "id": "4e9fd661-5c50-4629-8c26-55e651324900",
   "metadata": {},
   "outputs": [
    {
     "data": {
      "text/html": [
       "<div>\n",
       "<style scoped>\n",
       "    .dataframe tbody tr th:only-of-type {\n",
       "        vertical-align: middle;\n",
       "    }\n",
       "\n",
       "    .dataframe tbody tr th {\n",
       "        vertical-align: top;\n",
       "    }\n",
       "\n",
       "    .dataframe thead th {\n",
       "        text-align: right;\n",
       "    }\n",
       "</style>\n",
       "<table border=\"1\" class=\"dataframe\">\n",
       "  <thead>\n",
       "    <tr style=\"text-align: right;\">\n",
       "      <th></th>\n",
       "      <th>Age group (years)</th>\n",
       "      <th>Death rate, United States, 2019</th>\n",
       "      <th>Death rate, Uganda, 2019</th>\n",
       "    </tr>\n",
       "  </thead>\n",
       "  <tbody>\n",
       "    <tr>\n",
       "      <th>0</th>\n",
       "      <td>0-4</td>\n",
       "      <td>0.04</td>\n",
       "      <td>0.40</td>\n",
       "    </tr>\n",
       "    <tr>\n",
       "      <th>1</th>\n",
       "      <td>2024-05-09 00:00:00</td>\n",
       "      <td>0.02</td>\n",
       "      <td>0.17</td>\n",
       "    </tr>\n",
       "    <tr>\n",
       "      <th>2</th>\n",
       "      <td>2024-10-14 00:00:00</td>\n",
       "      <td>0.02</td>\n",
       "      <td>0.07</td>\n",
       "    </tr>\n",
       "    <tr>\n",
       "      <th>3</th>\n",
       "      <td>15-19</td>\n",
       "      <td>0.02</td>\n",
       "      <td>0.23</td>\n",
       "    </tr>\n",
       "    <tr>\n",
       "      <th>4</th>\n",
       "      <td>20-24</td>\n",
       "      <td>0.06</td>\n",
       "      <td>0.38</td>\n",
       "    </tr>\n",
       "  </tbody>\n",
       "</table>\n",
       "</div>"
      ],
      "text/plain": [
       "     Age group (years)  Death rate, United States, 2019  \\\n",
       "0                  0-4                             0.04   \n",
       "1  2024-05-09 00:00:00                             0.02   \n",
       "2  2024-10-14 00:00:00                             0.02   \n",
       "3                15-19                             0.02   \n",
       "4                20-24                             0.06   \n",
       "\n",
       "   Death rate, Uganda, 2019  \n",
       "0                      0.40  \n",
       "1                      0.17  \n",
       "2                      0.07  \n",
       "3                      0.23  \n",
       "4                      0.38  "
      ]
     },
     "execution_count": 23,
     "metadata": {},
     "output_type": "execute_result"
    }
   ],
   "source": [
    "data.head()"
   ]
  },
  {
   "cell_type": "code",
   "execution_count": 24,
   "id": "634d1717-7230-448e-9fe8-26dbcc5e1463",
   "metadata": {},
   "outputs": [
    {
     "data": {
      "text/html": [
       "<div>\n",
       "<style scoped>\n",
       "    .dataframe tbody tr th:only-of-type {\n",
       "        vertical-align: middle;\n",
       "    }\n",
       "\n",
       "    .dataframe tbody tr th {\n",
       "        vertical-align: top;\n",
       "    }\n",
       "\n",
       "    .dataframe thead th {\n",
       "        text-align: right;\n",
       "    }\n",
       "</style>\n",
       "<table border=\"1\" class=\"dataframe\">\n",
       "  <thead>\n",
       "    <tr style=\"text-align: right;\">\n",
       "      <th></th>\n",
       "      <th>Age_Group</th>\n",
       "      <th>Death_Rate_US</th>\n",
       "      <th>Death_Rate_UG</th>\n",
       "    </tr>\n",
       "  </thead>\n",
       "  <tbody>\n",
       "    <tr>\n",
       "      <th>0</th>\n",
       "      <td>0-4</td>\n",
       "      <td>0.04</td>\n",
       "      <td>0.40</td>\n",
       "    </tr>\n",
       "    <tr>\n",
       "      <th>1</th>\n",
       "      <td>2024-05-09 00:00:00</td>\n",
       "      <td>0.02</td>\n",
       "      <td>0.17</td>\n",
       "    </tr>\n",
       "    <tr>\n",
       "      <th>2</th>\n",
       "      <td>2024-10-14 00:00:00</td>\n",
       "      <td>0.02</td>\n",
       "      <td>0.07</td>\n",
       "    </tr>\n",
       "    <tr>\n",
       "      <th>3</th>\n",
       "      <td>15-19</td>\n",
       "      <td>0.02</td>\n",
       "      <td>0.23</td>\n",
       "    </tr>\n",
       "    <tr>\n",
       "      <th>4</th>\n",
       "      <td>20-24</td>\n",
       "      <td>0.06</td>\n",
       "      <td>0.38</td>\n",
       "    </tr>\n",
       "    <tr>\n",
       "      <th>5</th>\n",
       "      <td>25-29</td>\n",
       "      <td>0.11</td>\n",
       "      <td>0.40</td>\n",
       "    </tr>\n",
       "    <tr>\n",
       "      <th>6</th>\n",
       "      <td>30-34</td>\n",
       "      <td>0.29</td>\n",
       "      <td>0.75</td>\n",
       "    </tr>\n",
       "    <tr>\n",
       "      <th>7</th>\n",
       "      <td>35-39</td>\n",
       "      <td>0.56</td>\n",
       "      <td>1.11</td>\n",
       "    </tr>\n",
       "    <tr>\n",
       "      <th>8</th>\n",
       "      <td>40-44</td>\n",
       "      <td>1.42</td>\n",
       "      <td>2.04</td>\n",
       "    </tr>\n",
       "    <tr>\n",
       "      <th>9</th>\n",
       "      <td>45-49</td>\n",
       "      <td>4.00</td>\n",
       "      <td>5.51</td>\n",
       "    </tr>\n",
       "    <tr>\n",
       "      <th>10</th>\n",
       "      <td>50-54</td>\n",
       "      <td>14.13</td>\n",
       "      <td>13.26</td>\n",
       "    </tr>\n",
       "    <tr>\n",
       "      <th>11</th>\n",
       "      <td>55-59</td>\n",
       "      <td>37.22</td>\n",
       "      <td>33.25</td>\n",
       "    </tr>\n",
       "    <tr>\n",
       "      <th>12</th>\n",
       "      <td>60-64</td>\n",
       "      <td>66.48</td>\n",
       "      <td>69.62</td>\n",
       "    </tr>\n",
       "    <tr>\n",
       "      <th>13</th>\n",
       "      <td>65-69</td>\n",
       "      <td>108.66</td>\n",
       "      <td>120.78</td>\n",
       "    </tr>\n",
       "    <tr>\n",
       "      <th>14</th>\n",
       "      <td>70-74</td>\n",
       "      <td>213.10</td>\n",
       "      <td>229.88</td>\n",
       "    </tr>\n",
       "    <tr>\n",
       "      <th>15</th>\n",
       "      <td>75-79</td>\n",
       "      <td>333.06</td>\n",
       "      <td>341.06</td>\n",
       "    </tr>\n",
       "    <tr>\n",
       "      <th>16</th>\n",
       "      <td>80-84</td>\n",
       "      <td>491.10</td>\n",
       "      <td>529.31</td>\n",
       "    </tr>\n",
       "    <tr>\n",
       "      <th>17</th>\n",
       "      <td>85+</td>\n",
       "      <td>894.45</td>\n",
       "      <td>710.40</td>\n",
       "    </tr>\n",
       "  </tbody>\n",
       "</table>\n",
       "</div>"
      ],
      "text/plain": [
       "              Age_Group  Death_Rate_US  Death_Rate_UG\n",
       "0                   0-4           0.04           0.40\n",
       "1   2024-05-09 00:00:00           0.02           0.17\n",
       "2   2024-10-14 00:00:00           0.02           0.07\n",
       "3                 15-19           0.02           0.23\n",
       "4                 20-24           0.06           0.38\n",
       "5                 25-29           0.11           0.40\n",
       "6                 30-34           0.29           0.75\n",
       "7                 35-39           0.56           1.11\n",
       "8                 40-44           1.42           2.04\n",
       "9                 45-49           4.00           5.51\n",
       "10                50-54          14.13          13.26\n",
       "11                55-59          37.22          33.25\n",
       "12                60-64          66.48          69.62\n",
       "13                65-69         108.66         120.78\n",
       "14                70-74         213.10         229.88\n",
       "15                75-79         333.06         341.06\n",
       "16                80-84         491.10         529.31\n",
       "17                  85+         894.45         710.40"
      ]
     },
     "execution_count": 24,
     "metadata": {},
     "output_type": "execute_result"
    }
   ],
   "source": [
    "#For easy purpose want to rename the columns.............\n",
    "data.rename(columns={'Age group (years)': 'Age_Group'},inplace = True)\n",
    "data.rename(columns={'Death rate, United States, 2019': 'Death_Rate_US'},inplace = True)\n",
    "data.rename(columns={'Death rate, Uganda, 2019': 'Death_Rate_UG'},inplace = True)\n",
    "data"
   ]
  },
  {
   "cell_type": "markdown",
   "id": "de0c1cd3-3ca9-41d1-965f-71ac65d896e0",
   "metadata": {},
   "source": [
    "To accurately calculate the crude death rates for the United States and Uganda, we need the following information:\n",
    "\n",
    "Age-specific death rates for each country.\n",
    "Population data for each age group in each country.\n",
    "Given the age-specific death rates you provided and assuming we have the population data, we can calculate the crude death rate as follows:\n",
    "\n",
    "Multiply each age-specific death rate by the corresponding population in that age group.\n",
    "Sum up the resulting numbers to get the total number of deaths.\n",
    "Divide the total number of deaths by the total population to get the crude death rate.\n",
    "However, since we don't have the actual population data for 2019, we used a hypothetical population of 100,000 for each age group to demonstrate the calculation process. This hypothetical population helps illustrate the calculation steps, but the resulting crude death rates are not accurate."
   ]
  },
  {
   "cell_type": "markdown",
   "id": "13a79bfe-e5a0-4aa4-96c5-d58b8db66289",
   "metadata": {},
   "source": [
    "###### As of my last update in January 2022, the estimated total population of the United States was around 331 million, and the estimated total population of Uganda was around 48 million.\n",
    "\n",
    "Please keep in mind that these numbers are approximate and may have changed since then. For the most up-to-date population statistics, I recommend consulting official sources such as the United States Census Bureau for U.S. population data and the Uganda Bureau of Statistics for Ugandan population data.\n"
   ]
  },
  {
   "cell_type": "code",
   "execution_count": 25,
   "id": "ecd0f83c-923c-4d90-987e-ad67a20a2d47",
   "metadata": {},
   "outputs": [],
   "source": [
    "population_us = 331,000,000\n",
    "population_ug = 48,000,000"
   ]
  },
  {
   "cell_type": "code",
   "execution_count": 26,
   "id": "1d526be9-8398-40ea-b6b1-3cc1901709f1",
   "metadata": {},
   "outputs": [],
   "source": [
    "# Calculate total deaths in each country\n",
    "total_deaths_us = data[\"Death_Rate_US\"].sum()\n",
    "total_deaths_ug = data[\"Death_Rate_UG\"].sum()"
   ]
  },
  {
   "cell_type": "code",
   "execution_count": 27,
   "id": "8411497b-3188-4957-91ec-f3d4abafd4e8",
   "metadata": {},
   "outputs": [
    {
     "data": {
      "text/plain": [
       "2164.74"
      ]
     },
     "execution_count": 27,
     "metadata": {},
     "output_type": "execute_result"
    }
   ],
   "source": [
    "total_deaths_us"
   ]
  },
  {
   "cell_type": "code",
   "execution_count": 28,
   "id": "291b223d-fa04-4069-89f9-8fca2dea200d",
   "metadata": {},
   "outputs": [
    {
     "data": {
      "text/plain": [
       "2058.62"
      ]
     },
     "execution_count": 28,
     "metadata": {},
     "output_type": "execute_result"
    }
   ],
   "source": [
    "total_deaths_ug"
   ]
  },
  {
   "cell_type": "code",
   "execution_count": 29,
   "id": "cbcd96d7-05a4-415c-ae76-e7b18ddbaa9b",
   "metadata": {},
   "outputs": [],
   "source": [
    "# Calculate crude death rate (CDR)\n",
    "cdr_us = (total_deaths_us / population_us) * 1000\n",
    "cdr_ug = (total_deaths_ug / population_ug) * 1000"
   ]
  },
  {
   "cell_type": "code",
   "execution_count": 30,
   "id": "84f0a7d2-c832-4a7a-a34f-c05622835964",
   "metadata": {},
   "outputs": [
    {
     "name": "stdout",
     "output_type": "stream",
     "text": [
      "Crude Death Rate (United States): [6540.   inf   inf]\n",
      "Crude Death Rate (Uganda): [42887.91666667            inf            inf]\n"
     ]
    }
   ],
   "source": [
    "# Output the calculated values\n",
    "print(\"Crude Death Rate (United States):\",cdr_us)\n",
    "print(\"Crude Death Rate (Uganda):\",cdr_ug)"
   ]
  },
  {
   "cell_type": "code",
   "execution_count": 31,
   "id": "c67667ee-40de-42c9-885d-4be953234b59",
   "metadata": {},
   "outputs": [
    {
     "data": {
      "text/html": [
       "<div>\n",
       "<style scoped>\n",
       "    .dataframe tbody tr th:only-of-type {\n",
       "        vertical-align: middle;\n",
       "    }\n",
       "\n",
       "    .dataframe tbody tr th {\n",
       "        vertical-align: top;\n",
       "    }\n",
       "\n",
       "    .dataframe thead th {\n",
       "        text-align: right;\n",
       "    }\n",
       "</style>\n",
       "<table border=\"1\" class=\"dataframe\">\n",
       "  <thead>\n",
       "    <tr style=\"text-align: right;\">\n",
       "      <th></th>\n",
       "      <th>Age_Group</th>\n",
       "      <th>Death_Rate_US</th>\n",
       "      <th>Death_Rate_UG</th>\n",
       "    </tr>\n",
       "  </thead>\n",
       "  <tbody>\n",
       "    <tr>\n",
       "      <th>0</th>\n",
       "      <td>0-4</td>\n",
       "      <td>0.04</td>\n",
       "      <td>0.40</td>\n",
       "    </tr>\n",
       "    <tr>\n",
       "      <th>1</th>\n",
       "      <td>2024-05-09 00:00:00</td>\n",
       "      <td>0.02</td>\n",
       "      <td>0.17</td>\n",
       "    </tr>\n",
       "    <tr>\n",
       "      <th>2</th>\n",
       "      <td>2024-10-14 00:00:00</td>\n",
       "      <td>0.02</td>\n",
       "      <td>0.07</td>\n",
       "    </tr>\n",
       "    <tr>\n",
       "      <th>3</th>\n",
       "      <td>15-19</td>\n",
       "      <td>0.02</td>\n",
       "      <td>0.23</td>\n",
       "    </tr>\n",
       "    <tr>\n",
       "      <th>4</th>\n",
       "      <td>20-24</td>\n",
       "      <td>0.06</td>\n",
       "      <td>0.38</td>\n",
       "    </tr>\n",
       "  </tbody>\n",
       "</table>\n",
       "</div>"
      ],
      "text/plain": [
       "             Age_Group  Death_Rate_US  Death_Rate_UG\n",
       "0                  0-4           0.04           0.40\n",
       "1  2024-05-09 00:00:00           0.02           0.17\n",
       "2  2024-10-14 00:00:00           0.02           0.07\n",
       "3                15-19           0.02           0.23\n",
       "4                20-24           0.06           0.38"
      ]
     },
     "execution_count": 31,
     "metadata": {},
     "output_type": "execute_result"
    }
   ],
   "source": [
    "data.head()"
   ]
  },
  {
   "cell_type": "code",
   "execution_count": 32,
   "id": "586816d0-4f48-4391-8bcc-de65320afd6e",
   "metadata": {},
   "outputs": [],
   "source": [
    "# Given data\n",
    "Death_Rate_US = {\n",
    "    '0-4': 0.04, '5-9': 0.02, '10-14': 0.02, '15-19': 0.02, '20-24': 0.06, '25-29': 0.11,\n",
    "    '30-34': 0.29, '35-39': 0.56, '40-44': 1.42, '45-49': 4, '50-54': 14.13, '55-59': 37.22,\n",
    "    '60-64': 66.48, '65-69': 108.66, '70-74': 213.1, '75-79': 333.06, '80-84': 491.1, '85+': 894.45\n",
    "}\n",
    "\n",
    "Death_Rate_UG = {\n",
    "    '0-4': 0.4, '5-9': 0.17, '10-14': 0.07, '15-19': 0.23, '20-24': 0.38, '25-29': 0.4,\n",
    "    '30-34': 0.75, '35-39': 1.11, '40-44': 2.04, '45-49': 5.51, '50-54': 13.26, '55-59': 33.25,\n",
    "    '60-64': 69.62, '65-69': 120.78, '70-74': 229.88, '75-79': 341.06, '80-84': 529.31, '85+': 710.4\n",
    "}\n",
    "\n",
    "# WHO Standard Population (per 100,000)\n",
    "standard_population = {\n",
    "    '0-4': 11756,\n",
    "    '5-9': 11884,\n",
    "    '10-14': 11891,\n",
    "    '15-19': 12010,\n",
    "    '20-24': 12645,\n",
    "    '25-29': 13819,\n",
    "    '30-34': 13565,\n",
    "    '35-39': 12501,\n",
    "    '40-44': 11865,\n",
    "    '45-49': 10601,\n",
    "    '50-54': 9050,\n",
    "    '55-59': 7061,\n",
    "    '60-64': 5332,\n",
    "    '65-69': 3671,\n",
    "    '70-74': 2441,\n",
    "    '75-79': 1454,\n",
    "    '80-84': 778,\n",
    "    '85+': 612\n",
    "}\n"
   ]
  },
  {
   "cell_type": "code",
   "execution_count": 33,
   "id": "3acbfac3-257f-4606-9f87-d008769cedbf",
   "metadata": {},
   "outputs": [],
   "source": [
    "# Calculate age-standardized rates for the United States\n",
    "us_age_standardized_rate = sum(Death_Rate_US[age_group] * standard_population[age_group] / 100000 for age_group in standard_population.keys())\n",
    "\n",
    "\n",
    "\n",
    "# Calculate age-standardized rates for Uganda\n",
    "uganda_age_standardized_rate = sum(Death_Rate_UG[age_group] * standard_population[age_group] / 100000 for age_group in standard_population.keys())\n"
   ]
  },
  {
   "cell_type": "code",
   "execution_count": 34,
   "id": "6009cd09-6ebe-46ce-b861-f4f4c05d4bf0",
   "metadata": {},
   "outputs": [
    {
     "name": "stdout",
     "output_type": "stream",
     "text": [
      "Age-standardized death rate (per 100,000) for the United States: 31.516261200000002\n",
      "Age-standardized death rate (per 100,000) for Uganda: 32.0030079\n"
     ]
    }
   ],
   "source": [
    "print(\"Age-standardized death rate (per 100,000) for the United States:\", us_age_standardized_rate)\n",
    "print(\"Age-standardized death rate (per 100,000) for Uganda:\", uganda_age_standardized_rate)"
   ]
  },
  {
   "cell_type": "code",
   "execution_count": null,
   "id": "672fa7a8-7179-4063-a4ac-125a8de21915",
   "metadata": {},
   "outputs": [],
   "source": []
  },
  {
   "cell_type": "markdown",
   "id": "6eb36039-9599-47cd-8f7e-db00db9fd766",
   "metadata": {},
   "source": [
    "## In this Data, I've calculated both the crude and age-standardized death rates for chronic obstructive pulmonary disease (COPD) in the United States and Uganda for the year 2019. The provided data includes death rates per 100,000 people for COPD in each country. I've adjusted these rates to represent the whole population of each country by multiplying them by the total population for 2019, rounded to the nearest whole number. The crude death rates are calculated straightforwardly by multiplying the death rates by the total population. For age-standardized rates, I've used the WHO Standard Population to account for differences in age distributions between the two countries. The standardized rates allow for a more meaningful comparison by controlling for the influence of age structure on mortality rates. Assumptions made include assuming that the death rates provided accurately represent mortality patterns for COPD in each country and that the WHO Standard Population adequately represents the age distribution of the global population. Differences between the crude and age-standardized death rates may arise due to variations in age distributions between the United States and Uganda. Overall, these analyses provide valuable insights into the burden of COPD mortality in both countries."
   ]
  },
  {
   "cell_type": "code",
   "execution_count": null,
   "id": "7e6b88b7-82f1-4119-8b31-009c46998dce",
   "metadata": {},
   "outputs": [],
   "source": []
  },
  {
   "cell_type": "code",
   "execution_count": null,
   "id": "fa515f69-dd67-42f4-9fc4-00e8abb093aa",
   "metadata": {},
   "outputs": [],
   "source": []
  }
 ],
 "metadata": {
  "kernelspec": {
   "display_name": "Python [conda env:anaconda3]",
   "language": "python",
   "name": "conda-env-anaconda3-py"
  },
  "language_info": {
   "codemirror_mode": {
    "name": "ipython",
    "version": 3
   },
   "file_extension": ".py",
   "mimetype": "text/x-python",
   "name": "python",
   "nbconvert_exporter": "python",
   "pygments_lexer": "ipython3",
   "version": "3.11.5"
  }
 },
 "nbformat": 4,
 "nbformat_minor": 5
}
